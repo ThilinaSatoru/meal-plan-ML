{
 "cells": [
  {
   "cell_type": "code",
   "execution_count": null,
   "metadata": {},
   "outputs": [],
   "source": [
    "import pickle\n",
    "import pprint\n",
    "import warnings\n",
    "import numpy as np \n",
    "import pandas as pd\n",
    "import seaborn as sns\n",
    "from collections import defaultdict\n",
    "from matplotlib import pyplot as plt\n",
    "from catboost import CatBoostClassifier\n",
    "from sklearn.preprocessing import LabelEncoder\n",
    "from sklearn.model_selection import train_test_split\n",
    "from sklearn.metrics import confusion_matrix, classification_report\n",
    "warnings.filterwarnings('ignore')"
   ]
  },
  {
   "cell_type": "markdown",
   "metadata": {},
   "source": [
    "# eda"
   ]
  },
  {
   "cell_type": "code",
   "execution_count": null,
   "metadata": {},
   "outputs": [],
   "source": [
    "datapath = 'diabetes_user_profiles_with_mealID.csv'\n",
    "df = pd.read_csv(datapath)\n",
    "df"
   ]
  },
  {
   "cell_type": "code",
   "execution_count": null,
   "metadata": {},
   "outputs": [],
   "source": [
    "# sample_json = df.iloc[0].to_json()\n",
    "# with open('sample.json', 'w') as f:\n",
    "#     f.write(sample_json)"
   ]
  },
  {
   "cell_type": "code",
   "execution_count": null,
   "metadata": {},
   "outputs": [],
   "source": [
    "### NaN Value Distribution\n",
    "nan_dist = df.isna().sum()\n",
    "nan_dist = nan_dist[nan_dist > 0]\n",
    "nan_dist = nan_dist.sort_values(ascending=False)\n",
    "nan_dist = nan_dist / df.shape[0] * 100\n",
    "nan_dist = nan_dist.round(2)\n",
    "\n",
    "# plot\n",
    "plt.figure(figsize=(10, 5))\n",
    "sns.barplot(x=nan_dist.values, y=nan_dist.index, palette='viridis')\n",
    "plt.title('NaN Value Distribution')\n",
    "plt.xlabel('Percentage')\n",
    "plt.ylabel('Columns')\n",
    "plt.show()"
   ]
  },
  {
   "cell_type": "code",
   "execution_count": null,
   "metadata": {},
   "outputs": [],
   "source": [
    "df.drop(\n",
    "        columns=[\n",
    "                'RecordID', 'Name',\n",
    "                'OtherConditions', \n",
    "                'FoodsAvoided', \n",
    "                'Intolerances', \n",
    "                'TriggerFoods', \n",
    "                'DietFollowed',\n",
    "                'Allergies'\n",
    "                ],\n",
    "        inplace=True\n",
    "        )\n",
    "df"
   ]
  },
  {
   "cell_type": "code",
   "execution_count": null,
   "metadata": {},
   "outputs": [],
   "source": [
    "output_column = ['MealID']\n",
    "cat_columns = ['Gender', 'Location', 'Occupation', 'DiabetesType', 'FavoriteFoods', 'HealthGoals', 'DietChallenges', 'TraditionalFoods', 'CookingFrequency', 'CookingMethods']\n",
    "num_columns = ['Age', 'Height', 'Weight', 'DiagnosedYearsAgo', 'FastingGlucose', 'PostprandialGlucose']"
   ]
  },
  {
   "cell_type": "code",
   "execution_count": null,
   "metadata": {},
   "outputs": [],
   "source": [
    "## plot cat column distribution 5 x 2\n",
    "fig, axes = plt.subplots(5, 2, figsize=(20, 20))\n",
    "for i, column in enumerate(cat_columns):\n",
    "    sns.countplot(x=column, data=df, ax=axes[i//2, i%2], palette='viridis')\n",
    "    axes[i//2, i%2].set_title(f'{column} Distribution')\n",
    "    axes[i//2, i%2].set_xlabel(column)\n",
    "\n",
    "plt.tight_layout()\n",
    "plt.show()"
   ]
  },
  {
   "cell_type": "code",
   "execution_count": null,
   "metadata": {},
   "outputs": [],
   "source": [
    "## plot num column distribution 3 x 2\n",
    "fig, axes = plt.subplots(3, 2, figsize=(20, 15))\n",
    "for i, column in enumerate(num_columns):\n",
    "    sns.histplot(df[column], ax=axes[i//2, i%2], palette='viridis')\n",
    "    axes[i//2, i%2].set_title(f'{column} Distribution')\n",
    "    axes[i//2, i%2].set_xlabel(column)\n",
    "\n",
    "plt.tight_layout()\n",
    "plt.show()"
   ]
  },
  {
   "cell_type": "code",
   "execution_count": null,
   "metadata": {},
   "outputs": [],
   "source": [
    "def data_pipeline(\n",
    "                    datapath = 'diabetes_user_profiles_with_mealID.csv',\n",
    "                    cat_columns = ['Gender', 'Location', 'Occupation', 'DiabetesType', 'FavoriteFoods', 'HealthGoals', 'DietChallenges', 'TraditionalFoods', 'CookingFrequency', 'CookingMethods'],\n",
    "                    num_columns = ['Age', 'Height', 'Weight', 'DiagnosedYearsAgo', 'FastingGlucose', 'PostprandialGlucose'],\n",
    "                    output_column = ['MealID']\n",
    "                    ):\n",
    "    df = pd.read_csv(datapath)\n",
    "    df.drop(\n",
    "            columns=[\n",
    "                    'RecordID', 'Name',\n",
    "                    'OtherConditions', \n",
    "                    'FoodsAvoided', \n",
    "                    'Intolerances', \n",
    "                    'TriggerFoods', \n",
    "                    'DietFollowed',\n",
    "                    'Allergies'\n",
    "                    ],\n",
    "            inplace=True\n",
    "            )\n",
    "\n",
    "    encoder = defaultdict(LabelEncoder)\n",
    "    for col in cat_columns + output_column:\n",
    "        encoder[col].fit(df[col])\n",
    "        df[col] = encoder[col].transform(df[col])\n",
    "\n",
    "    with open('encoder_meal.pkl', 'wb') as f:\n",
    "        pickle.dump(encoder, f)\n",
    "\n",
    "    X = df.drop(columns = cat_columns + output_column)\n",
    "    Y = df[output_column]\n",
    "\n",
    "    X, Y = np.array(X), np.array(Y).ravel()\n",
    "    return X, Y, encoder"
   ]
  },
  {
   "cell_type": "code",
   "execution_count": null,
   "metadata": {},
   "outputs": [],
   "source": [
    "X, Y, encoder_meal = data_pipeline()\n",
    "\n",
    "X_train, X_test, Y_train, Y_test = train_test_split(\n",
    "                                                    X, Y, \n",
    "                                                    test_size=0.2, \n",
    "                                                    random_state=42\n",
    "                                                    )\n",
    "\n",
    "print(f\"\\nX_train shape: {X_train.shape}\")\n",
    "print(f\"Y_train shape: {Y_train.shape}\")\n",
    "print(f\"X_test shape: {X_test.shape}\")\n",
    "print(f\"Y_test shape: {Y_test.shape}\")"
   ]
  },
  {
   "cell_type": "code",
   "execution_count": null,
   "metadata": {},
   "outputs": [],
   "source": [
    "cat = CatBoostClassifier(\n",
    "                        iterations=1000, \n",
    "                        learning_rate=0.1, \n",
    "                        loss_function='MultiClass', \n",
    "                        depth=6\n",
    "                        )\n",
    "cat.fit(\n",
    "        X, Y, \n",
    "        eval_set=(\n",
    "                    X_test, \n",
    "                    Y_test\n",
    "                ), \n",
    "        verbose=100\n",
    "        )"
   ]
  },
  {
   "cell_type": "code",
   "execution_count": null,
   "metadata": {},
   "outputs": [],
   "source": [
    "with open('model_meal.pkl', 'wb') as f:\n",
    "    pickle.dump(cat, f)"
   ]
  },
  {
   "cell_type": "code",
   "execution_count": null,
   "metadata": {},
   "outputs": [],
   "source": [
    "P_train = cat.predict(X_train)\n",
    "P_test = cat.predict(X_test)"
   ]
  },
  {
   "cell_type": "code",
   "execution_count": null,
   "metadata": {},
   "outputs": [],
   "source": [
    "print(\"---------------------- Train CLS REPORT ----------------------\")\n",
    "target_names = encoder_meal['MealID'].classes_\n",
    "target_names = [f'Meal ID : {name}' for name in target_names]\n",
    "clf_report = classification_report(\n",
    "                                Y_train,\n",
    "                                P_train,\n",
    "                                target_names = target_names\n",
    "                )\n",
    "print(clf_report)\n",
    "\n",
    "print(\"---------------------- Test CLS REPORT ----------------------\")\n",
    "clf_report = classification_report(\n",
    "                                Y_test, \n",
    "                                P_test,\n",
    "                                target_names = target_names\n",
    "                                )\n",
    "print(clf_report)"
   ]
  },
  {
   "cell_type": "code",
   "execution_count": null,
   "metadata": {},
   "outputs": [],
   "source": [
    "cm = confusion_matrix(Y_train,P_train)\n",
    "cm = cm.astype('float') / cm.sum(axis=1)[:, np.newaxis]\n",
    "cm = np.round(cm, 2)\n",
    "\n",
    "plt.figure(figsize=(15, 10))\n",
    "sns.heatmap(cm, annot=True, fmt=\".2f\", cmap='Blues', xticklabels=target_names, yticklabels=target_names)\n",
    "plt.xlabel('Predicted Label')\n",
    "plt.ylabel('True Label')\n",
    "plt.title('Train Confusion Matrix')\n",
    "plt.show()"
   ]
  },
  {
   "cell_type": "code",
   "execution_count": null,
   "metadata": {},
   "outputs": [],
   "source": [
    "cm = confusion_matrix(Y_test,P_test)\n",
    "cm = cm.astype('float') / cm.sum(axis=1)[:, np.newaxis]\n",
    "cm = np.round(cm, 2)\n",
    "\n",
    "plt.figure(figsize=(15, 10))\n",
    "sns.heatmap(cm, annot=True, fmt=\".2f\", cmap='Blues', xticklabels=target_names, yticklabels=target_names)\n",
    "plt.xlabel('Predicted Label')\n",
    "plt.ylabel('True Label')\n",
    "plt.title('Test Confusion Matrix')\n",
    "plt.show()"
   ]
  },
  {
   "cell_type": "markdown",
   "metadata": {},
   "source": [
    "### Inference"
   ]
  },
  {
   "cell_type": "code",
   "execution_count": null,
   "metadata": {},
   "outputs": [],
   "source": [
    "with open('encoder_meal.pkl', 'rb') as f:\n",
    "    encoder_meal = pickle.load(f)\n",
    "\n",
    "with open('model_meal.pkl', 'rb') as f:\n",
    "    model_meal = pickle.load(f)"
   ]
  },
  {
   "cell_type": "code",
   "execution_count": null,
   "metadata": {},
   "outputs": [],
   "source": [
    "def inference_meal(\n",
    "                    sample_json,\n",
    "                    meal_path = 'sri_lankan_meal_dataset.csv',\n",
    "                    cat_columns = ['Gender', 'Location', 'Occupation', 'DiabetesType', 'FavoriteFoods', 'HealthGoals', 'DietChallenges', 'TraditionalFoods', 'CookingFrequency', 'CookingMethods']\n",
    "                    ):\n",
    "    df = pd.DataFrame([sample_json])\n",
    "    df.drop(\n",
    "        columns=[\n",
    "                'RecordID', 'Name',\n",
    "                'OtherConditions', \n",
    "                'FoodsAvoided', \n",
    "                'Intolerances', \n",
    "                'TriggerFoods', \n",
    "                'DietFollowed',\n",
    "                'Allergies'\n",
    "                ],\n",
    "        inplace=True\n",
    "    )\n",
    "\n",
    "    for col in cat_columns:\n",
    "        df[col] = encoder_meal[col].transform(df[col])\n",
    "\n",
    "    x = df.values\n",
    "    p = model_meal.predict(x)\n",
    "    p = int(p.squeeze())\n",
    "    p = encoder_meal['MealID'].inverse_transform([p])[0]\n",
    "    \n",
    "    df_meal = pd.read_csv(meal_path)\n",
    "    df_meal = df_meal[df_meal['MealID'] == p]\n",
    "    del df_meal['MealID']\n",
    "\n",
    "    meal_dict = df_meal.to_dict(orient='records')\n",
    "    \n",
    "    response = {}\n",
    "    response['MealID'] = p\n",
    "    response['Meal'] = meal_dict\n",
    "    return response\n",
    "    "
   ]
  },
  {
   "cell_type": "code",
   "execution_count": null,
   "metadata": {},
   "outputs": [],
   "source": [
    "sample_json = {\n",
    "            \"RecordID\":1,\n",
    "            \"Name\":\"Nimal Fernando\",\n",
    "            \"Age\":64,\n",
    "            \"Gender\":\"Male\",\n",
    "            \"Height\":168,\n",
    "            \"Weight\":80,\n",
    "            \"Location\":\"Jaffna\",\n",
    "            \"Occupation\":\"Homemaker\",\n",
    "            \"DiabetesType\":\"Gestational\",\n",
    "            \"DiagnosedYearsAgo\":2,\n",
    "            \"FastingGlucose\":138,\n",
    "            \"PostprandialGlucose\":235,\n",
    "            \"OtherConditions\":\"High cholesterol\",\n",
    "            \"FavoriteFoods\":\"Rice and curry\",\n",
    "            \"FoodsAvoided\":None,\n",
    "            \"DietFollowed\":\"Vegetarian\",\n",
    "            \"TriggerFoods\":None,\n",
    "            \"Allergies\":\"Dairy\",\n",
    "            \"Intolerances\":\"Gluten\",\n",
    "            \"HealthGoals\":\"Better blood sugar control\",\n",
    "            \"DietChallenges\":\"Cravings\",\n",
    "            \"TraditionalFoods\":\"Pickled vegetables\",\n",
    "            \"CookingFrequency\":\"Rarely\",\n",
    "            \"CookingMethods\":\"Steaming\"\n",
    "            }"
   ]
  },
  {
   "cell_type": "code",
   "execution_count": null,
   "metadata": {},
   "outputs": [],
   "source": [
    "df_meal = inference_meal(sample_json)\n",
    "pprint.pprint(df_meal)"
   ]
  }
 ],
 "metadata": {
  "kernelspec": {
   "display_name": "tf210",
   "language": "python",
   "name": "python3"
  },
  "language_info": {
   "codemirror_mode": {
    "name": "ipython",
    "version": 3
   },
   "file_extension": ".py",
   "mimetype": "text/x-python",
   "name": "python",
   "nbconvert_exporter": "python",
   "pygments_lexer": "ipython3",
   "version": "3.10.14"
  }
 },
 "nbformat": 4,
 "nbformat_minor": 2
}
